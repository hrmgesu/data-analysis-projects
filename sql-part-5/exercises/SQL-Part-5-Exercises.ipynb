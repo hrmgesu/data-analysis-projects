{
 "cells": [
  {
   "cell_type": "markdown",
   "metadata": {},
   "source": [
    "# Exercises: Creating, Updating, and Destroying Objects\n",
    "\n",
    "For the exercises, you will be working with objects and data you create. Before opening this notebook, make sure that you have set up the new connection to the server and that you have located the database and your schema.\n",
    "\n",
    "## Object Creation\n",
    "\n",
    "Before coding, think of three things you want to make. These could be coding projects, new recipes, or planned projects for a woodworking hobby. Brainstorm the appropriate column names and data types as well.\n",
    "\n",
    "Create a table under your schema called `planned_makes`."
   ]
  },
  {
   "cell_type": "code",
   "execution_count": 1,
   "metadata": {
    "vscode": {
     "languageId": "sql"
    }
   },
   "outputs": [
    {
     "ename": "SyntaxError",
     "evalue": "invalid decimal literal (953403467.py, line 1)",
     "output_type": "error",
     "traceback": [
      "\u001b[1;36m  Cell \u001b[1;32mIn[1], line 1\u001b[1;36m\u001b[0m\n\u001b[1;33m    create table JunkDB_STL_Oct 2025.Gesu.planned_makes(make_id INT PRIMARY KEY, make_name VARCHAR(50) NOT NULL,  planned_date DATE,   description\u001b[0m\n\u001b[1;37m                                    ^\u001b[0m\n\u001b[1;31mSyntaxError\u001b[0m\u001b[1;31m:\u001b[0m invalid decimal literal\n"
     ]
    }
   ],
   "source": [
    "create table JunkDB_STL_Oct 2025.Gesu.planned_makes(make_id INT PRIMARY KEY, make_name VARCHAR(50) NOT NULL,  planned_date DATE,   description \n"
   ]
  },
  {
   "cell_type": "markdown",
   "metadata": {},
   "source": [
    "Add three rows to your table that are your planned makes."
   ]
  },
  {
   "cell_type": "code",
   "execution_count": null,
   "metadata": {
    "vscode": {
     "languageId": "sql"
    }
   },
   "outputs": [],
   "source": [
    "INSERT INTO Sep2025JunkDB.gesu_sakhuja.planned_makes (project_id, project_type, project_name, planned_start_date, estimated_completion_date,description)\n",
    "VALUES (1, 'Coding', 'Develop a Task Manager', '2023-09-01', '2023-09-30', 'Create a web-based task manager application.');\n",
    "     \n",
    "INSERT INTO Sep2025JunkDB.gesu_sakhuja.planned_makes(project_id, project_type, project_name, planned_start_date, ingredients, notes)\n",
    "VALUES (2, 'Cooking', 'Create a Vegan Pasta Dish', '2023-08-25', 'List of ingredients...', 'Experiment with different vegan cheeses.');\n",
    "\n",
    "INSERT INTO Sep2025JunkDB.gesu_sakhuja.planned_makes (project_id, project_type, project_name, planned_start_date, estimated_completion_date, materials, tools)\n",
    "VALUES (3, 'Woodworking', 'Build a Rustic Bookshelf', '2023-10-15', '2023-10-30', 'List of materials...', 'List of tools...');\n",
    "\n",
    "\n",
    "\n",
    "select * from Sep2025JunkDB.gesu_sakhuja.planned_makes\n",
    "\n",
    "\n"
   ]
  },
  {
   "cell_type": "markdown",
   "metadata": {},
   "source": [
    "## Update a Row\n",
    "\n",
    "Change different values in one of your three rows."
   ]
  },
  {
   "cell_type": "code",
   "execution_count": null,
   "metadata": {
    "vscode": {
     "languageId": "sql"
    }
   },
   "outputs": [],
   "source": [
    "\n",
    "update Sep2025JunkDB.gesu_sakhuja.planned_makes set estimated_completion_date = '2023-08-25',description= 'Make a Alfredo sauce for preparing pasta',materials='flour,oil,salt',tools='pizza cutter,wooden plate'\n",
    "where project_type='Cooking'"
   ]
  },
  {
   "cell_type": "markdown",
   "metadata": {},
   "source": [
    "## Delete a Row\n",
    "\n",
    "Delete one of the rows from your table."
   ]
  },
  {
   "cell_type": "code",
   "execution_count": null,
   "metadata": {
    "vscode": {
     "languageId": "sql"
    }
   },
   "outputs": [],
   "source": [
    "delete from Sep2025JunkDB.gesu_sakhuja.planned_makes where project_type='Coding'\n",
    "\n",
    "select * from Sep2025JunkDB.gesu_sakhuja.planned_makes\n",
    "\n",
    "INSERT INTO Sep2025JunkDB.gesu_sakhuja.author(first_name, last_name, birth_year, death_year)\n",
    "VALUES ('Phillip', 'Pullman', 1946, null);\n",
    "     "
   ]
  },
  {
   "cell_type": "markdown",
   "metadata": {},
   "source": [
    "## Drop the Table\n",
    "\n",
    "While this has been fun, it is time to drop the table!"
   ]
  },
  {
   "cell_type": "code",
   "execution_count": null,
   "metadata": {
    "vscode": {
     "languageId": "sql"
    }
   },
   "outputs": [],
   "source": [
    "\n",
    "drop table Sep2025JunkDB.gesu_sakhuja.planned_makes\n",
    "\n",
    "\n",
    "select * from Sep2025JunkDB.gesu_sakhuja.planned_makes"
   ]
  }
 ],
 "metadata": {
  "kernelspec": {
   "display_name": "base",
   "language": "python",
   "name": "python3"
  },
  "language_info": {
   "codemirror_mode": {
    "name": "ipython",
    "version": 3
   },
   "file_extension": ".py",
   "mimetype": "text/x-python",
   "name": "python",
   "nbconvert_exporter": "python",
   "pygments_lexer": "ipython3",
   "version": "3.13.5"
  }
 },
 "nbformat": 4,
 "nbformat_minor": 2
}
